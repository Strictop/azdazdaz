{
 "cells": [
  {
   "cell_type": "code",
   "execution_count": 4,
   "metadata": {},
   "outputs": [
    {
     "data": {
      "text/plain": [
       "'hello world'"
      ]
     },
     "execution_count": 4,
     "metadata": {},
     "output_type": "execute_result"
    }
   ],
   "source": [
    "'heelo ' + 'world'\n",
    "'hhelo' + ' world'\n",
    "'hello' + ' ' + 'world'"
   ]
  },
  {
   "cell_type": "markdown",
   "metadata": {},
   "source": [
    "mettre un espace"
   ]
  },
  {
   "cell_type": "code",
   "execution_count": 6,
   "metadata": {},
   "outputs": [
    {
     "data": {
      "text/plain": [
       "'Hello'"
      ]
     },
     "execution_count": 6,
     "metadata": {},
     "output_type": "execute_result"
    }
   ],
   "source": [
    "mot = 'Hello'\n",
    "mot"
   ]
  },
  {
   "cell_type": "markdown",
   "metadata": {},
   "source": [
    "une variable"
   ]
  },
  {
   "cell_type": "code",
   "execution_count": 8,
   "metadata": {},
   "outputs": [
    {
     "name": "stdout",
     "output_type": "stream",
     "text": [
      "Goodbye\n"
     ]
    }
   ],
   "source": [
    "mot = 'Goodbye'\n",
    "print(mot)"
   ]
  },
  {
   "cell_type": "markdown",
   "metadata": {},
   "source": [
    "le mot print"
   ]
  },
  {
   "cell_type": "code",
   "execution_count": 1,
   "metadata": {},
   "outputs": [
    {
     "name": "stdout",
     "output_type": "stream",
     "text": [
      "W\n",
      "o\n",
      "r\n",
      "l\n",
      "d\n"
     ]
    }
   ],
   "source": [
    "nom = 'World'\n",
    "for caractere in nom: print(caractere)"
   ]
  },
  {
   "cell_type": "code",
   "execution_count": 9,
   "metadata": {},
   "outputs": [
    {
     "name": "stdout",
     "output_type": "stream",
     "text": [
      "World\n",
      "World\n",
      "World\n",
      "World\n",
      "World\n"
     ]
    }
   ],
   "source": [
    "nom = 'World'\n",
    "for _ in nom:\n",
    "    print(nom)"
   ]
  },
  {
   "cell_type": "code",
   "execution_count": 1,
   "metadata": {},
   "outputs": [
    {
     "name": "stdout",
     "output_type": "stream",
     "text": [
      "+World+\n",
      "W     W\n",
      "o     o\n",
      "r     r\n",
      "l     l\n",
      "d     d\n",
      "+World+\n"
     ]
    }
   ],
   "source": [
    "nom = 'World'\n",
    "ligne = '+' + nom + '+'\n",
    "espace = ''\n",
    "for _ in nom:\n",
    "    espace += ' '\n",
    "\n",
    "print(ligne)\n",
    "for caractere in nom:\n",
    "    print(caractere + espace + caractere)\n",
    "print(ligne)\n"
   ]
  },
  {
   "cell_type": "code",
   "execution_count": 2,
   "metadata": {},
   "outputs": [
    {
     "name": "stdout",
     "output_type": "stream",
     "text": [
      "W\n",
      " o\n",
      "  r\n",
      "   l\n",
      "    d\n"
     ]
    }
   ],
   "source": [
    "nom = 'World'\n",
    "espace = ''\n",
    "\n",
    "for caractere in nom:\n",
    "    print(espace + caractere)\n",
    "    espace += ' '"
   ]
  },
  {
   "cell_type": "code",
   "execution_count": 3,
   "metadata": {},
   "outputs": [
    {
     "name": "stdout",
     "output_type": "stream",
     "text": [
      "Hello World?\n"
     ]
    }
   ],
   "source": [
    "phrase = 'Hello World'\n",
    "ravi = False\n",
    "confus = True\n",
    "if ravi:\n",
    "    phrase += '!'\n",
    "if confus:\n",
    "    phrase += '?'\n",
    "\n",
    "print(phrase)"
   ]
  },
  {
   "cell_type": "code",
   "execution_count": 4,
   "metadata": {},
   "outputs": [
    {
     "name": "stdout",
     "output_type": "stream",
     "text": [
      "H!e!l!l!o! !W!o!r!l!d!\n"
     ]
    }
   ],
   "source": [
    "phrase = 'Hello World'\n",
    "ravi = True\n",
    "\n",
    "\n",
    "if ravi:\n",
    "    nouvelle_phrase = ''\n",
    "    for caractere in phrase:\n",
    "        nouvelle_phrase += caractere + '!'\n",
    "    phrase = nouvelle_phrase\n",
    "\n",
    "print(phrase)"
   ]
  },
  {
   "cell_type": "code",
   "execution_count": 5,
   "metadata": {},
   "outputs": [
    {
     "name": "stdout",
     "output_type": "stream",
     "text": [
      "H!e!l!l!o! !W!o!r!l!d!\n"
     ]
    }
   ],
   "source": [
    "phrase = 'Hello World'\n",
    "ravi = True\n",
    "\n",
    "nouvelle_phrase = ''\n",
    "for caractere in phrase:\n",
    "    nouvelle_phrase += caractere\n",
    "    if ravi:\n",
    "        nouvelle_phrase += '!'\n",
    "\n",
    "phrase = nouvelle_phrase\n",
    "print(phrase)"
   ]
  },
  {
   "cell_type": "code",
   "execution_count": 6,
   "metadata": {},
   "outputs": [
    {
     "name": "stdout",
     "output_type": "stream",
     "text": [
      "H\n"
     ]
    }
   ],
   "source": [
    "phrase = 'Hello World'\n",
    "\n",
    "inclus = True\n",
    "nouvelle_phrase = ''\n",
    "for caractere in phrase:\n",
    "    if inclus:\n",
    "        nouvelle_phrase += caractere\n",
    "    inclus = False\n",
    "\n",
    "print(nouvelle_phrase)"
   ]
  },
  {
   "cell_type": "code",
   "execution_count": 7,
   "metadata": {},
   "outputs": [
    {
     "name": "stdout",
     "output_type": "stream",
     "text": [
      "ello World\n"
     ]
    }
   ],
   "source": [
    "phrase = 'Hello World'\n",
    "\n",
    "inclus = False\n",
    "nouvelle_phrase = ''\n",
    "for caractere in phrase:\n",
    "    if inclus:\n",
    "        nouvelle_phrase += caractere\n",
    "    inclus = True\n",
    "\n",
    "print(nouvelle_phrase)"
   ]
  },
  {
   "cell_type": "code",
   "execution_count": 8,
   "metadata": {},
   "outputs": [
    {
     "name": "stdout",
     "output_type": "stream",
     "text": [
      "Non\n"
     ]
    }
   ],
   "source": [
    "condition = False\n",
    "if condition:\n",
    "    print('Oui')\n",
    "else:\n",
    "    print('Non')"
   ]
  },
  {
   "cell_type": "markdown",
   "metadata": {},
   "source": [
    "la condition if=si et else=sinon"
   ]
  },
  {
   "cell_type": "code",
   "execution_count": 9,
   "metadata": {},
   "outputs": [
    {
     "name": "stdout",
     "output_type": "stream",
     "text": [
      "Oui\n"
     ]
    }
   ],
   "source": [
    "condition = True\n",
    "if condition:\n",
    "    print('Oui')\n",
    "else:\n",
    "    print('Non')"
   ]
  },
  {
   "cell_type": "code",
   "execution_count": 10,
   "metadata": {},
   "outputs": [
    {
     "name": "stdout",
     "output_type": "stream",
     "text": [
      "HELLO WORLD\n"
     ]
    }
   ],
   "source": [
    "phrase = 'Hello World'\n",
    "ravi = True\n",
    "if ravi:\n",
    "    phrase = phrase.upper()\n",
    "else:\n",
    "    phrase = phrase.lower()\n",
    "print(phrase)"
   ]
  },
  {
   "cell_type": "markdown",
   "metadata": {},
   "source": [
    ".upper= majuscule"
   ]
  },
  {
   "cell_type": "code",
   "execution_count": 11,
   "metadata": {},
   "outputs": [
    {
     "name": "stdout",
     "output_type": "stream",
     "text": [
      "hello world\n"
     ]
    }
   ],
   "source": [
    "phrase = 'Hello World'\n",
    "ravi = False\n",
    "if ravi:\n",
    "    phrase = phrase.upper()\n",
    "else:\n",
    "    phrase = phrase.lower()\n",
    "print(phrase)"
   ]
  },
  {
   "cell_type": "markdown",
   "metadata": {},
   "source": [
    ".lower=minuscule"
   ]
  },
  {
   "cell_type": "code",
   "execution_count": null,
   "metadata": {},
   "outputs": [],
   "source": []
  }
 ],
 "metadata": {
  "kernelspec": {
   "display_name": "Python 3.8.13 64-bit ('3.8.13')",
   "language": "python",
   "name": "python3"
  },
  "language_info": {
   "codemirror_mode": {
    "name": "ipython",
    "version": 3
   },
   "file_extension": ".py",
   "mimetype": "text/x-python",
   "name": "python",
   "nbconvert_exporter": "python",
   "pygments_lexer": "ipython3",
   "version": "3.8.13"
  },
  "orig_nbformat": 4,
  "vscode": {
   "interpreter": {
    "hash": "110cc1dee26208153f2972f08a2ad52b6a56238dc66d48e87fb757ef2996db56"
   }
  }
 },
 "nbformat": 4,
 "nbformat_minor": 2
}
